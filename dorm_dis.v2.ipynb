{
 "cells": [
  {
   "cell_type": "code",
   "execution_count": 1,
   "metadata": {},
   "outputs": [
    {
     "data": {
      "text/plain": [
       "'\\nCreated on Sun Jul 18 11:11:50 2021\\n\\n@author: Chen Shuanghui\\n\\nThis script can distribute sutudents based on their characteristics,\\nby the method of Hierarchical Clustering\\n'"
      ]
     },
     "execution_count": 1,
     "metadata": {},
     "output_type": "execute_result"
    }
   ],
   "source": [
    "# -*- coding: utf-8 -*-\n",
    "\"\"\"\n",
    "Created on Sun Jul 18 11:11:50 2021\n",
    "\n",
    "@author: Chen Shuanghui\n",
    "\n",
    "This script can distribute sutudents based on their characteristics,\n",
    "by the method of Hierarchical Clustering\n",
    "\"\"\""
   ]
  },
  {
   "cell_type": "code",
   "execution_count": 2,
   "metadata": {},
   "outputs": [],
   "source": [
    "import argparse;\n",
    "import numpy as np;\n",
    "import pandas as pd;\n",
    "import random;\n",
    "from matplotlib import pyplot as plt;\n",
    "from sklearn.cluster import AgglomerativeClustering"
   ]
  },
  {
   "cell_type": "code",
   "execution_count": 3,
   "metadata": {},
   "outputs": [],
   "source": [
    "def createDataset(*seqs,num,seqnames=None):\n",
    "    df = pd.DataFrame()\n",
    "    for i in range(len(seqs)):\n",
    "        feature = []\n",
    "        for j in range(num):\n",
    "            feature.append(random.choice(seqs[i]))\n",
    "        df[\"feature\" + str(i+1)] = feature\n",
    "    if seqnames:\n",
    "        df.columns = seqnames\n",
    "    df.index = [\"student%s\" % x for x in range(1,num+1)]\n",
    "    return df"
   ]
  },
  {
   "cell_type": "code",
   "execution_count": 4,
   "metadata": {},
   "outputs": [],
   "source": [
    "def convertDtype(rawdf):\n",
    "    df = rawdf.copy()\n",
    "    for i in range(df.shape[1]):\n",
    "        if df.iloc[:,i].dtype == \"object\":\n",
    "            df.iloc[:,i] = pd.Categorical(df.iloc[:,i]).codes\n",
    "    return df"
   ]
  },
  {
   "cell_type": "code",
   "execution_count": 5,
   "metadata": {},
   "outputs": [],
   "source": [
    "def normalize(rawdf):\n",
    "    df = rawdf.copy()\n",
    "    for i in range(df.shape[1]):\n",
    "        FeatureRange = max(df.iloc[:,i])- min(df.iloc[:,i])\n",
    "        if FeatureRange == 0:\n",
    "            df.iloc[:,i] = 0.5\n",
    "        else:\n",
    "            df.iloc[:,i] = (df.iloc[:,i]- min(df.iloc[:,i])) / FeatureRange\n",
    "    return df"
   ]
  },
  {
   "cell_type": "code",
   "execution_count": 6,
   "metadata": {},
   "outputs": [],
   "source": [
    "def weightFeature(rawdf,dt):\n",
    "    df = rawdf.copy()\n",
    "    for i in pd.Series(dt).index:\n",
    "        df[i] = df[i]*dt[i]\n",
    "    return df"
   ]
  },
  {
   "cell_type": "code",
   "execution_count": 7,
   "metadata": {},
   "outputs": [],
   "source": [
    "def varianceComment(dataset,label):  #data: students' information; label: results of distribution\n",
    "    dorm_IDs = label.Dorm_ID[label.Dorm_ID.duplicated()]\n",
    "    errs = []\n",
    "    for i in dorm_IDs:\n",
    "        dorm = label.loc[label.Dorm_ID == i,:]\n",
    "        students = dorm.Student_ID\n",
    "        df = dataset.loc[students,:]\n",
    "        err = sum(df.sem(axis=0))/df.shape[0]\n",
    "        errs.append(err)\n",
    "    return sum(errs)"
   ]
  },
  {
   "cell_type": "code",
   "execution_count": 8,
   "metadata": {},
   "outputs": [],
   "source": [
    "# Clustering\n",
    "def dormCluster(df,size): \n",
    "    if df.shape[0] % size == 0:\n",
    "        dorm_num = df.shape[0] // size\n",
    "    else:\n",
    "        dorm_num = df.shape[0] // size + 1 \n",
    "    ac = AgglomerativeClustering(n_clusters=dorm_num, affinity='euclidean', linkage='average')\n",
    "    clustering = ac.fit(df.values)\n",
    "    result = pd.DataFrame({\"Student_ID\":df.index,\"Dorm_ID\":clustering.labels_})\n",
    "    return result"
   ]
  },
  {
   "cell_type": "code",
   "execution_count": 9,
   "metadata": {},
   "outputs": [],
   "source": [
    "def randomDistribute(names,size):   #names: student ID; num: student number in a dorm\n",
    "    l = []\n",
    "    if len(names) % size == 0:\n",
    "        dorm_num = len(names) // size\n",
    "        dorm_IDs = list(range(0,dorm_num))*size\n",
    "    else:\n",
    "        dorm_num = len(names) // size + 1\n",
    "        dorm_IDs = list(range(0,dorm_num - 1))*size + [dorm_num]*(len(names) % size)     \n",
    "    while dorm_IDs:\n",
    "        DID = random.choice(dorm_IDs)\n",
    "        dorm_IDs.remove(DID)\n",
    "        l.append(DID)\n",
    "    result = pd.DataFrame({\"Student_ID\":names,\"Dorm_ID\":l})\n",
    "    return result"
   ]
  },
  {
   "cell_type": "code",
   "execution_count": 64,
   "metadata": {},
   "outputs": [
    {
     "name": "stdout",
     "output_type": "stream",
     "text": [
      "Clustering method wins:  100\n"
     ]
    }
   ],
   "source": [
    "#Comparison of random distribution and our clustering\n",
    "#Simulated data\n",
    "bedtime = [22,23,24] \n",
    "risetime = [7,8,9]\n",
    "hometown = [\"Southwest\",\"Southeast\",\"Northeast\",\"NorthChina\",\"Northwest\"]\n",
    "sports = [0,1,2,3] #unit: hours\n",
    "money = [1,2,3]  #unit: k rmb\n",
    "\n",
    "weight_dt = {\"bedtime\":2,\"risetime\":2,\"money\":1.5}\n",
    "\n",
    "clusterwin = 0\n",
    "for i in range(100):\n",
    "    dataset = createDataset(bedtime,risetime,hometown,sports,money, num=100, seqnames=[\"bedtime\",\"risetime\",\"hometown\",\"sports\",\"money\"])\n",
    "    dataset = convertDtype(dataset)\n",
    "    dataset = weightFeature(normalize(dataset),weight_dt)\n",
    "    randomdis = randomDistribute(names = list(dataset.index),size = 6)  #dormitory size: 6 individuals\n",
    "    clusterdis = dormCluster(dataset,size = 6)\n",
    "    #comment\n",
    "    x = varianceComment(dataset,label = randomdis)\n",
    "    y = varianceComment(dataset,label = clusterdis)\n",
    "    if x > y:\n",
    "        clusterwin += 1\n",
    "\n",
    "print(\"Clustering method wins: \", clusterwin)"
   ]
  },
  {
   "cell_type": "code",
   "execution_count": 66,
   "metadata": {},
   "outputs": [],
   "source": [
    "def main():\n",
    "    parser = argparse.ArgumentParser(description='Input the student information and dormitory size.')\n",
    "    parser.add_argument(\"--input\",\"-i\", type=str, help='Student information file.')\n",
    "    parser.add_argument(\"--out\",\"-o\", type=str, help='Prefix of distribution result file.')\n",
    "    parser.add_argument(\"--size\",\"-s\", type=int, help='Dormitory size.')\n",
    "    parser.add_argument(\"--weight\",\"-w\", required = False, type=str, \\\n",
    "                        help='Weight of features. Format: Feature1:num1;Feature2:num2... (no blank)')\n",
    "    args = parser.parse_args()\n",
    "    \n",
    "    #size\n",
    "    dorm_size = args.size\n",
    "        \n",
    "    #student information\n",
    "    dataset = pd.read_csv(args.input);\n",
    "    dataset = convertDtype(dataset)\n",
    "     #weight\n",
    "    if args.weight:\n",
    "        weight_str = args.weight\n",
    "        weight_dt = dict()\n",
    "        for s in weight_str.split(\"/\"):\n",
    "            key = s.split(\",\")[0]\n",
    "            value = eval(s.split(\",\")[1])\n",
    "            weight_dt[key] = value\n",
    "        dataset = weightFeature(normalize(dataset),weight_dt)\n",
    "    else:\n",
    "        dataset = normalize(dataset)\n",
    "   \n",
    "    #Clustering\n",
    "    result = dormCluster(dataset,dorm_size)\n",
    "    \n",
    "    result.to_csv(args.out + \".csv\")\n",
    "    #for test\n",
    "    #print(result) \n",
    "    print(\"Done.\")"
   ]
  },
  {
   "cell_type": "code",
   "execution_count": null,
   "metadata": {},
   "outputs": [],
   "source": [
    "if __name__ == '__main__':\n",
    "    main()"
   ]
  }
 ],
 "metadata": {
  "kernelspec": {
   "display_name": "Python 3",
   "language": "python",
   "name": "python3"
  },
  "language_info": {
   "codemirror_mode": {
    "name": "ipython",
    "version": 3
   },
   "file_extension": ".py",
   "mimetype": "text/x-python",
   "name": "python",
   "nbconvert_exporter": "python",
   "pygments_lexer": "ipython3",
   "version": "3.7.6"
  }
 },
 "nbformat": 4,
 "nbformat_minor": 4
}
